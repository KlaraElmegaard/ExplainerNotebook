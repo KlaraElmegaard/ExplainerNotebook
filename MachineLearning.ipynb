{
 "cells": [
  {
   "cell_type": "markdown",
   "metadata": {},
   "source": [
    "# Machine learning"
   ]
  },
  {
   "cell_type": "code",
   "execution_count": 1,
   "metadata": {},
   "outputs": [],
   "source": [
    "import numpy as np # linear algebra\n",
    "import pandas as pd # data processing, CSV file I/O (e.g. pd.read_csv)\n",
    "import matplotlib.pyplot as plt\n",
    "import folium\n",
    "from sklearn import tree\n",
    "import pydotplus\n",
    "from IPython.display import Image\n",
    "\n",
    "from sklearn.tree import DecisionTreeClassifier\n",
    "from sklearn.tree import export_graphviz\n",
    "from sklearn import model_selection\n",
    "from sklearn.metrics import accuracy_score"
   ]
  },
  {
   "cell_type": "code",
   "execution_count": 2,
   "metadata": {},
   "outputs": [
    {
     "name": "stderr",
     "output_type": "stream",
     "text": [
      "C:\\Users\\ninas\\Anaconda3\\lib\\site-packages\\IPython\\core\\interactiveshell.py:3058: DtypeWarning: Columns (19,20,25) have mixed types. Specify dtype option on import or set low_memory=False.\n",
      "  interactivity=interactivity, compiler=compiler, result=result)\n"
     ]
    }
   ],
   "source": [
    "# Load the dataset\n",
    "data = pd.read_csv(\"Fire.csv\") \n",
    "df = pd.DataFrame(data)"
   ]
  },
  {
   "cell_type": "code",
   "execution_count": 3,
   "metadata": {},
   "outputs": [],
   "source": [
    "# Data cleaning\n",
    "\n",
    "# Select the 14 focus calls\n",
    "focuscalls = ['Medical Incident', 'Structure Fire', 'Alarms', 'Traffic Collision', 'Other', \n",
    "              'Citizen Assist / Service Call', 'Outside Fire', 'Water Rescue', 'Vehicle Fire', \n",
    "              'Gas Leak (Natural and LP Gases)', 'Electrical Hazard', 'Elevator / Escalator Rescue', \n",
    "              'Odor (Strange / Unknown)', 'Smoke Investigation (Outside)']\n",
    "\n",
    "# Define the neighborhoods\n",
    "neighborhoods = ['Pacific Heights', 'Tenderloin', 'Mission', 'Marina',\n",
    "       'Bayview Hunters Point', 'Inner Sunset', 'Outer Richmond',\n",
    "       'Financial District/South Beach', 'Sunset/Parkside',\n",
    "       'Outer Mission', 'Lone Mountain/USF', 'Western Addition',\n",
    "       'Nob Hill', 'Hayes Valley', 'Oceanview/Merced/Ingleside',\n",
    "       'Seacliff', 'West of Twin Peaks', 'Mission Bay', 'South of Market',\n",
    "       'Potrero Hill', 'Treasure Island', 'Noe Valley', 'Chinatown',\n",
    "       'Inner Richmond', 'Portola', 'Russian Hill', 'Bernal Heights',\n",
    "       'Golden Gate Park', 'North Beach', 'Excelsior', 'Lakeshore',\n",
    "       'Haight Ashbury', 'Visitacion Valley', 'Presidio', 'Twin Peaks',\n",
    "       'Japantown', 'Castro/Upper Market', 'Presidio Heights',\n",
    "       'McLaren Park', 'Lincoln Park', 'Glen Park']\n",
    "\n",
    "df = df[df['Call Type'].isin(focuscalls)]\n",
    "df = df[df['Neighborhooods - Analysis Boundaries'].isin(neighborhoods)]"
   ]
  },
  {
   "cell_type": "code",
   "execution_count": 4,
   "metadata": {},
   "outputs": [],
   "source": [
    "# Make date format\n",
    "format = '%m/%d/%Y %I:%M:%S %p'\n",
    "df['Datetime'] = pd.to_datetime(df['Received DtTm'], format=format)\n",
    "df = df.set_index(pd.DatetimeIndex(df['Datetime']))\n",
    "\n",
    "# Create column in dataframe with hour \n",
    "df['Hour'] = df.index.hour\n",
    "\n",
    "# Create column in dataframe with hour of the week\n",
    "df['HourOfWeek'] = df['Datetime'].dt.dayofweek * 24 + (df['Datetime'].dt.hour + 1)\n",
    "\n",
    "# Create column in dataframe with month\n",
    "df['Month'] = df.index.month \n",
    "\n",
    "# Create column in dataframe with week\n",
    "df['Week'] = df.index.week\n",
    "\n",
    "# Create column in dataframe with year\n",
    "df['Year'] = df.index.year\n",
    "\n",
    "# Create column in dataframe with weekday\n",
    "df['Weekday'] = df.index.weekday"
   ]
  },
  {
   "cell_type": "code",
   "execution_count": 5,
   "metadata": {},
   "outputs": [],
   "source": [
    "# Load weather data\n",
    "df_weather = pd.read_csv('weather_data.csv')\n",
    "\n",
    "df_weather = df_weather.set_index(pd.to_datetime(df_weather['date'],format='%Y-%m-%dT%H:%M:%S.%fZ'))\n",
    "df_weather = df_weather.drop(['date'], 1)"
   ]
  },
  {
   "cell_type": "code",
   "execution_count": 6,
   "metadata": {},
   "outputs": [],
   "source": [
    "# Take 10.000 datapoints from each call type, such that the dataset is balanced.\n",
    "\n",
    "MedI = df[df['Call Type'] == 'Medical Incident'].sample(10000) \n",
    "Ala = df[df['Call Type'] == 'Alarms'].sample(10000) \n",
    "StrF = df[df['Call Type'] == 'Structure Fire'].sample(10000)\n",
    "TraC = df[df['Call Type'] == 'Traffic Collision'].sample(10000)\n",
    "CitA = df[df['Call Type'] == 'Citizen Assist / Service Call'].sample(10000) \n",
    "Oth = df[df['Call Type'] == 'Other'].sample(10000)\n",
    "OutF = df[df['Call Type'] == 'Outside Fire'].sample(10000) \n",
    "WatR = df[df['Call Type'] == 'Water Rescue'].sample(10000) \n",
    "VehF = df[df['Call Type'] == 'Vehicle Fire'].sample(10000)\n",
    "GasL = df[df['Call Type'] == 'Gas Leak (Natural and LP Gases)'].sample(10000)\n",
    "EleH = df[df['Call Type'] == 'Electrical Hazard'].sample(10000) \n",
    "Ele = df[df['Call Type'] == 'Elevator / Escalator Rescue'].sample(10000)\n",
    "Odor = df[df['Call Type'] == 'Odor (Strange / Unknown)'].sample(10000) \n",
    "SmoI = df[df['Call Type'] == 'Smoke Investigation (Outside)'].sample(10000)"
   ]
  },
  {
   "cell_type": "code",
   "execution_count": 7,
   "metadata": {},
   "outputs": [],
   "source": [
    "# Concatenate the selected call types into one dataframe\n",
    "\n",
    "# All 14 call types\n",
    "#df_fil = pd.concat([MedI, Ala, StrF, TraC, CitA, Oth, OutF, WatR, VehF, GasL, EleH, Ele, Odor, SmoI])\n",
    "\n",
    "# The two call types Water Rescue and Electrical Hazard\n",
    "df_fil = pd.concat([WatR,EleH])"
   ]
  },
  {
   "cell_type": "code",
   "execution_count": 8,
   "metadata": {},
   "outputs": [],
   "source": [
    "# Join weather and fire department data\n",
    "\n",
    "df_fil.index = df_fil.index.round('H')\n",
    "df_merged = pd.merge(df_fil,df_weather, how='inner', left_index=True, right_index=True)"
   ]
  },
  {
   "cell_type": "code",
   "execution_count": 13,
   "metadata": {},
   "outputs": [],
   "source": [
    "# Choose the attribute we want to predict, and the attributes that we want to base our prediction on \n",
    "# Here we have selected to predict call type based on neighborhood, month and weather\n",
    "df_new = df_merged[['Call Type','Neighborhooods - Analysis Boundaries','Month','weather']]\n",
    "df1 = df_new.dropna(how='any')\n",
    "# Other attributes we have used to our desicion trees: 'Final Priority','Year', 'Month', 'Week','Hour','Weekday','HourOfWeek'\n",
    "\n",
    "# Convert categorical variables into dummy/indicator variables (Only the attributes that we base our prediction on!)\n",
    "joindata = pd.get_dummies(df1[['Neighborhooods - Analysis Boundaries','Month','weather']])\n",
    "\n",
    "\n",
    "# Split data into training and test set\n",
    "X_trainw, X_testw, y_trainw, y_testw = model_selection.train_test_split(joindata, df1['Call Type'], test_size=0.33, random_state=1)"
   ]
  },
  {
   "cell_type": "code",
   "execution_count": 14,
   "metadata": {},
   "outputs": [
    {
     "name": "stdout",
     "output_type": "stream",
     "text": [
      "0.8990030342436064\n"
     ]
    }
   ],
   "source": [
    "# Make decision tree\n",
    "clfw = DecisionTreeClassifier()\n",
    "clfw = clfw.fit(X_trainw, y_trainw)\n",
    "\n",
    "# Evaluate precision of classifier\n",
    "predicted = clfw.predict(X_testw)\n",
    "acc = accuracy_score(y_testw, predicted)\n",
    "print(acc)"
   ]
  },
  {
   "cell_type": "code",
   "execution_count": null,
   "metadata": {},
   "outputs": [],
   "source": []
  }
 ],
 "metadata": {
  "kernelspec": {
   "display_name": "Python 3",
   "language": "python",
   "name": "python3"
  },
  "language_info": {
   "codemirror_mode": {
    "name": "ipython",
    "version": 3
   },
   "file_extension": ".py",
   "mimetype": "text/x-python",
   "name": "python",
   "nbconvert_exporter": "python",
   "pygments_lexer": "ipython3",
   "version": "3.7.4"
  }
 },
 "nbformat": 4,
 "nbformat_minor": 2
}
