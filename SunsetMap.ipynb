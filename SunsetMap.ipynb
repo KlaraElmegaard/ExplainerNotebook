{
 "cells": [
  {
   "cell_type": "code",
   "execution_count": 5,
   "metadata": {},
   "outputs": [],
   "source": [
    "# Import libraries\n",
    "import pandas as pd\n",
    "import numpy as np\n",
    "import math\n",
    "import seaborn as sns\n",
    "import shapefile as shp\n",
    "import matplotlib.pyplot as plt\n",
    "\n",
    "import shapefile as shp\n",
    "import matplotlib.pyplot as plt\n",
    "import seaborn as sns\n",
    "import geopandas as gpd\n",
    "\n",
    "from bokeh.sampledata.sample_geojson import geojson\n",
    "from bokeh.io import output_file, show\n",
    "from bokeh.models import GeoJSONDataSource\n",
    "from bokeh.io import output_notebook, show, save\n",
    "from bokeh.plotting import figure\n",
    "from bokeh.palettes import Category20c\n",
    "from bokeh.io import curdoc, show\n",
    "from bokeh.layouts import column, row, widgetbox\n",
    "from bokeh.models import ColumnDataSource, Grid, LinearAxis, MultiPolygons, Plot,  HoverTool\n",
    "from bokeh.models import (\n",
    "    GeoJSONDataSource, ColumnDataSource, ColorBar, Slider, Spacer,\n",
    "    HoverTool, TapTool, Panel, Tabs, Legend, Toggle, LegendItem, Button, Select, CategoricalColorMapper\n",
    ")"
   ]
  },
  {
   "cell_type": "markdown",
   "metadata": {},
   "source": [
    "## Plot show electrical hazards in Sunset / Parkside\n",
    "In this notebook we generate a plot showing all the locations of electrical hazards (2000 samples) in the Sunset / Parkside neighborhood. "
   ]
  },
  {
   "cell_type": "code",
   "execution_count": 10,
   "metadata": {},
   "outputs": [],
   "source": [
    "# Define neighborhoods geojson\n",
    "sf = gpd.read_file(\"Neighborhoods.geojson\")\n",
    "sf = sf.rename(columns={'nhood':'Neighborhood'}).set_geometry('geometry')\n",
    "sf.crs = {'init': 'epsg:4326'}"
   ]
  },
  {
   "cell_type": "code",
   "execution_count": 6,
   "metadata": {},
   "outputs": [],
   "source": [
    "# Import dataframe made in \"DataPreparation\"\n",
    "df_S = pd.read_csv('SunsetDataframe.csv')"
   ]
  },
  {
   "cell_type": "code",
   "execution_count": 17,
   "metadata": {},
   "outputs": [],
   "source": [
    "source_S = ColumnDataSource(data=dict(\n",
    "    Neighbourhood=df_S['Neighborhooods - Analysis Boundaries'],\n",
    "    x=df_S['x'],\n",
    "    y=df_S['y'],\n",
    ")\n",
    ")"
   ]
  },
  {
   "cell_type": "code",
   "execution_count": 18,
   "metadata": {},
   "outputs": [],
   "source": [
    "mS = sf.merge(df_S, left_on = 'Neighborhood', right_on = 'Neighborhooods - Analysis Boundaries')"
   ]
  },
  {
   "cell_type": "code",
   "execution_count": 19,
   "metadata": {},
   "outputs": [],
   "source": [
    "geosource = GeoJSONDataSource(geojson = mS.to_json())"
   ]
  },
  {
   "cell_type": "code",
   "execution_count": 20,
   "metadata": {},
   "outputs": [],
   "source": [
    "p = figure(title='Electrical Hazards in Sunset/Parkside', plot_width=800, plot_height=600,\n",
    "           toolbar_location=None)\n",
    "\n",
    "# Plot neighborhood as patch\n",
    "p.patches('xs','ys', source = geosource,\n",
    "                   fill_color = 'lightgray',\n",
    "                   line_color = 'gray', \n",
    "                   line_width = 0.25, \n",
    "                   fill_alpha = 1)\n",
    "\n",
    "# Plot incidents as circles\n",
    "p.circle(x='x', y='y', size=4, source=geosource, fill_color='green')\n",
    "\n",
    "# Remove grid and axes\n",
    "p.axis.visible = False\n",
    "p.xgrid.grid_line_color = None\n",
    "p.ygrid.grid_line_color = None"
   ]
  },
  {
   "cell_type": "code",
   "execution_count": 21,
   "metadata": {},
   "outputs": [],
   "source": [
    "# Save plot in a file called \"Sunset.html\"\n",
    "output_file(\"Sunset.html\")\n",
    "layout = column(p)\n",
    "show(layout)"
   ]
  }
 ],
 "metadata": {
  "kernelspec": {
   "display_name": "Python 3",
   "language": "python",
   "name": "python3"
  },
  "language_info": {
   "codemirror_mode": {
    "name": "ipython",
    "version": 3
   },
   "file_extension": ".py",
   "mimetype": "text/x-python",
   "name": "python",
   "nbconvert_exporter": "python",
   "pygments_lexer": "ipython3",
   "version": "3.7.4"
  }
 },
 "nbformat": 4,
 "nbformat_minor": 4
}
