{
 "cells": [
  {
   "cell_type": "code",
   "execution_count": 1,
   "metadata": {},
   "outputs": [],
   "source": [
    "# Import libraries\n",
    "import pandas as pd\n",
    "import numpy as np\n",
    "import math\n",
    "import seaborn as sns\n",
    "import shapefile as shp\n",
    "import matplotlib.pyplot as plt\n",
    "\n",
    "import shapefile as shp\n",
    "import matplotlib.pyplot as plt\n",
    "import seaborn as sns\n",
    "import geopandas as gpd\n",
    "\n",
    "from bokeh.sampledata.sample_geojson import geojson\n",
    "from bokeh.io import output_file, show\n",
    "from bokeh.models import GeoJSONDataSource\n",
    "from bokeh.io import output_notebook, show, save\n",
    "from bokeh.plotting import figure\n",
    "from bokeh.palettes import Category20c\n",
    "from bokeh.io import curdoc, show\n",
    "from bokeh.layouts import column, row, widgetbox\n",
    "from bokeh.models import ColumnDataSource, Grid, LinearAxis, MultiPolygons, Plot,  HoverTool\n",
    "from bokeh.models import (\n",
    "    GeoJSONDataSource, ColumnDataSource, ColorBar, Slider, Spacer,\n",
    "    HoverTool, TapTool, Panel, Tabs, Legend, Toggle, LegendItem, Button, Select, CategoricalColorMapper\n",
    ")"
   ]
  },
  {
   "cell_type": "markdown",
   "metadata": {},
   "source": [
    "## Plot show water rescues in Financial District / South Beach\n",
    "In this notebook we generate a plot showing all the locations of water rescues (2000 samples) in the Financial District / South Beach neighborhood. "
   ]
  },
  {
   "cell_type": "code",
   "execution_count": 2,
   "metadata": {},
   "outputs": [],
   "source": [
    "# Define neighborhoods geojson\n",
    "sf = gpd.read_file(\"Neighborhoods.geojson\")\n",
    "sf = sf.rename(columns={'nhood':'Neighborhood'}).set_geometry('geometry')\n",
    "sf.crs = {'init': 'epsg:4326'}"
   ]
  },
  {
   "cell_type": "code",
   "execution_count": 3,
   "metadata": {},
   "outputs": [],
   "source": [
    "# Import dataframe made in \"DataPreparation\"\n",
    "df_F = pd.read_csv('FinancialDataframe.csv')"
   ]
  },
  {
   "cell_type": "code",
   "execution_count": 4,
   "metadata": {},
   "outputs": [],
   "source": [
    "source_F = ColumnDataSource(data=dict(\n",
    "    Neighbourhood=df_F['Neighborhooods - Analysis Boundaries'],\n",
    "    x=df_F['x'],\n",
    "    y=df_F['y'],\n",
    ")\n",
    ")"
   ]
  },
  {
   "cell_type": "code",
   "execution_count": 5,
   "metadata": {},
   "outputs": [],
   "source": [
    "mF = sf.merge(df_F, left_on = 'Neighborhood', right_on = 'Neighborhooods - Analysis Boundaries')"
   ]
  },
  {
   "cell_type": "code",
   "execution_count": 6,
   "metadata": {},
   "outputs": [],
   "source": [
    "geosource = GeoJSONDataSource(geojson = mF.to_json())"
   ]
  },
  {
   "cell_type": "code",
   "execution_count": 7,
   "metadata": {},
   "outputs": [],
   "source": [
    "p = figure(title='Water Rescues in Financial District/South Beach', plot_width=800, plot_height=600,\n",
    "           toolbar_location=None)\n",
    "\n",
    "# Plot neighborhood as patch\n",
    "p.patches('xs','ys', source = geosource,\n",
    "                   fill_color = 'lightgray',\n",
    "                   line_color = 'gray', \n",
    "                   line_width = 0.25, \n",
    "                   fill_alpha = 1)\n",
    "\n",
    "# Plot incidents as circles\n",
    "p.circle(x='x', y='y', size=4, source=geosource, fill_color='green')\n",
    "\n",
    "# Remove grid and axes\n",
    "p.axis.visible = False\n",
    "p.xgrid.grid_line_color = None\n",
    "p.ygrid.grid_line_color = None"
   ]
  },
  {
   "cell_type": "code",
   "execution_count": 8,
   "metadata": {},
   "outputs": [],
   "source": [
    "# Save plot in a file called \"Financial.html\"\n",
    "output_file(\"Financial.html\")\n",
    "layout = column(p)\n",
    "save(layout)"
   ]
  }
 ],
 "metadata": {
  "kernelspec": {
   "display_name": "Python 3",
   "language": "python",
   "name": "python3"
  },
  "language_info": {
   "codemirror_mode": {
    "name": "ipython",
    "version": 3
   },
   "file_extension": ".py",
   "mimetype": "text/x-python",
   "name": "python",
   "nbconvert_exporter": "python",
   "pygments_lexer": "ipython3",
   "version": "3.7.4"
  }
 },
 "nbformat": 4,
 "nbformat_minor": 4
}
