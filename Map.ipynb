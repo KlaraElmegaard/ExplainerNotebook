{
 "cells": [
  {
   "cell_type": "code",
   "execution_count": 2,
   "metadata": {},
   "outputs": [],
   "source": [
    "import pandas as pd\n",
    "import geopandas as gpd\n",
    "import json\n",
    "\n",
    "import bokeh\n",
    "from bokeh import plotting\n",
    "from bokeh.models import FactorRange\n",
    "from bokeh.palettes import Category20c\n",
    "from bokeh.layouts import column, row, widgetbox\n",
    "from bokeh.io import save, show, output_file, output_notebook, reset_output, export_png\n",
    "from bokeh.plotting import figure\n",
    "from bokeh.io.doc import curdoc\n",
    "from bokeh.models import (\n",
    "    GeoJSONDataSource, ColumnDataSource, ColorBar, Slider, Spacer,\n",
    "    HoverTool, TapTool, Panel, Tabs, Legend, Toggle, LegendItem, Button, Select, CategoricalColorMapper\n",
    ")\n",
    "from bokeh.palettes import brewer\n",
    "from bokeh.models.widgets import Div\n",
    "from matplotlib import pyplot as plt\n",
    "from matplotlib.colors import rgb2hex"
   ]
  },
  {
   "cell_type": "markdown",
   "metadata": {},
   "source": [
    "# Choropleth map\n",
    "In this section we present the code used to generate the choropleth map. We have found inspiration and help on the following sites:\n",
    "- https://jimking100.github.io/2019-09-04-Post-3/ \n",
    "- https://cbouy.github.io/2019/06/09/interactive-map.html\n",
    "\n",
    "Some of the code has been taken directly from Cédric Bouysset (cbouy), and then only been modified slightly. We will indicate these pieces of code with an inline comment.\n",
    "\n",
    "Please note that all interactive elements only work if the code is run on a bokeh server. We have hosted the plot as an app on Heroku, and deployed it with github in order to display it on our website. The actual app can be found on https://firedepartment-sanfran.herokuapp.com/Map3."
   ]
  },
  {
   "cell_type": "code",
   "execution_count": 3,
   "metadata": {},
   "outputs": [],
   "source": [
    "# Import all data sets we made earlier\n",
    "nhood_all = pd.read_csv('nhood_all.csv')\n",
    "nhood_priority = pd.read_csv('nhood_priority.csv')\n",
    "nhood_medical = pd.read_csv('nhood_medical.csv')\n",
    "\n",
    "district_all = pd.read_csv('district_all.csv')\n",
    "district_priority = pd.read_csv('district_priority.csv')\n",
    "district_medical = pd.read_csv('district_medical.csv')"
   ]
  },
  {
   "cell_type": "code",
   "execution_count": 4,
   "metadata": {},
   "outputs": [],
   "source": [
    "district_all = district_all.astype({'District': 'object'})\n",
    "district_priority = district_priority.astype({'District': 'object'})\n",
    "district_medical = district_medical.astype({'District': 'object'})"
   ]
  },
  {
   "cell_type": "code",
   "execution_count": 5,
   "metadata": {},
   "outputs": [],
   "source": [
    "# Load geojson file for neighborhoods\n",
    "nhood = gpd.read_file(\"Neighborhoods.geojson\")\n",
    "nhood = nhood.rename(columns={'nhood':'Neighborhood'}).set_geometry('geometry')\n",
    "nhood.crs = {'init': 'epsg:4326'}"
   ]
  },
  {
   "cell_type": "code",
   "execution_count": 6,
   "metadata": {},
   "outputs": [],
   "source": [
    "# Load geojson file for districts, and clean it up\n",
    "district = gpd.read_file(\"Districts.geojson\")\n",
    "district = district.rename(columns={'supervisor':'District'}).set_geometry('geometry')\n",
    "district = district.drop(columns=['supname', 'supdist', 'numbertext', 'supdistpad'])\n",
    "district.sort_values(by=[\"District\"])\n",
    "district = district.astype({'District': 'int32'})\n",
    "district.sort_values(by=[\"District\"], inplace=True)\n",
    "district.crs = {'init': 'epsg:4326'}"
   ]
  },
  {
   "cell_type": "code",
   "execution_count": 7,
   "metadata": {},
   "outputs": [],
   "source": [
    "# Split dataframe containing high and low priority calls for districts, such that we can assign different bins\n",
    "district_all.sort_values(by=[\"District\"], inplace=True)\n",
    "district_priority2 = district_priority[district_priority[\"Priority\"] == 2]\n",
    "district_priority3 = district_priority[district_priority[\"Priority\"] == 3]"
   ]
  },
  {
   "cell_type": "markdown",
   "metadata": {},
   "source": [
    "In the following, we define the bins and their labels. We define two different sets of bins, as some of the values are much larger than others. The bins are assigned to the data in the following way:\n",
    "- nhood_all: bins1\n",
    "- nood_priority: bins1\n",
    "- nhood_medical: bins1\n",
    "- district_all: bins\n",
    "- district_priority2: bins1\n",
    "- district_priority3: bins\n",
    "- district_medical: bins1"
   ]
  },
  {
   "cell_type": "code",
   "execution_count": 8,
   "metadata": {},
   "outputs": [],
   "source": [
    "# Create bins\n",
    "bins = [0,10000,20000,30000,40000,60000,90000,100000]\n",
    "# Create labels - from cbouy\n",
    "bin_labels = [f'≤{bins[1]}'] + [f'{bins[i]}-{bins[i+1]}' for i in range(1,len(bins)-2)] + [f'>{bins[-2]}']"
   ]
  },
  {
   "cell_type": "code",
   "execution_count": 9,
   "metadata": {},
   "outputs": [],
   "source": [
    "# Create bins\n",
    "bins1 = [0,2000,5000,10000,15000,20000,30000,50000,76000]\n",
    "# Create labels - from cbouy\n",
    "bin_labels1 = [f'≤{bins1[1]}'] + [f'{bins1[i]}-{bins1[i+1]}' for i in range(1,len(bins1)-2)] + [f'>{bins1[-2]}']"
   ]
  },
  {
   "cell_type": "code",
   "execution_count": 10,
   "metadata": {},
   "outputs": [
    {
     "name": "stderr",
     "output_type": "stream",
     "text": [
      "/Users/Nanorii/opt/anaconda3/lib/python3.7/site-packages/ipykernel_launcher.py:20: SettingWithCopyWarning: \n",
      "A value is trying to be set on a copy of a slice from a DataFrame.\n",
      "Try using .loc[row_indexer,col_indexer] = value instead\n",
      "\n",
      "See the caveats in the documentation: https://pandas.pydata.org/pandas-docs/stable/user_guide/indexing.html#returning-a-view-versus-a-copy\n",
      "/Users/Nanorii/opt/anaconda3/lib/python3.7/site-packages/ipykernel_launcher.py:24: SettingWithCopyWarning: \n",
      "A value is trying to be set on a copy of a slice from a DataFrame.\n",
      "Try using .loc[row_indexer,col_indexer] = value instead\n",
      "\n",
      "See the caveats in the documentation: https://pandas.pydata.org/pandas-docs/stable/user_guide/indexing.html#returning-a-view-versus-a-copy\n"
     ]
    }
   ],
   "source": [
    "# Assign each entry to a bin - from cbouy\n",
    "nhood_all['bin'] = pd.cut(\n",
    "    nhood_all['Calls'], bins=bins1, right=True, include_lowest=True, precision=0, labels=bin_labels1,\n",
    ").astype(str)\n",
    "\n",
    "nhood_priority['bin'] = pd.cut(\n",
    "    nhood_priority['Calls'], bins=bins1, right=True, include_lowest=True, precision=0, labels=bin_labels1,\n",
    ").astype(str)\n",
    "\n",
    "nhood_medical['bin'] = pd.cut(\n",
    "    nhood_medical['Calls'], bins=bins1, right=True, include_lowest=True, precision=0, labels=bin_labels1,\n",
    ").astype(str)\n",
    "\n",
    "district_all['bin'] = pd.cut(\n",
    "    district_all['Calls'], bins=bins, right=True, include_lowest=True, precision=0, labels=bin_labels,\n",
    ").astype(str)\n",
    "\n",
    "district_priority2['bin'] = pd.cut(\n",
    "    district_priority2['Calls'], bins=bins1, right=True, include_lowest=True, precision=0, labels=bin_labels1,\n",
    ").astype(str)\n",
    "\n",
    "district_priority3['bin'] = pd.cut(\n",
    "    district_priority3['Calls'], bins=bins, right=True, include_lowest=True, precision=0, labels=bin_labels,\n",
    ").astype(str)\n",
    "\n",
    "district_medical['bin'] = pd.cut(\n",
    "    district_medical['Calls'], bins=bins1, right=True, include_lowest=True, precision=0, labels=bin_labels1,\n",
    ").astype(str)"
   ]
  },
  {
   "cell_type": "code",
   "execution_count": 11,
   "metadata": {},
   "outputs": [],
   "source": [
    "# Merge the geographic neighborhood data with fire department data\n",
    "nhood_a = pd.merge(nhood, nhood_all, on='Neighborhood', how='left')\n",
    "nhood_p = pd.merge(nhood, nhood_priority, on='Neighborhood', how='left')\n",
    "nhood_m = pd.merge(nhood, nhood_medical, on='Neighborhood', how='left')\n",
    "\n",
    "# Merge the geographic district data with fire department data\n",
    "district_a = pd.merge(district, district_all, on='District', how='left')\n",
    "district_p2 = pd.merge(district, district_priority2, on='District', how='left')\n",
    "district_p3 = pd.merge(district, district_priority3, on='District', how='left')\n",
    "district_m = pd.merge(district, district_medical, on='District', how='left')"
   ]
  },
  {
   "cell_type": "markdown",
   "metadata": {},
   "source": [
    "Next, we define two color palettes and assign each entry a color, based on the bin this entry was assigned previously. "
   ]
  },
  {
   "cell_type": "code",
   "execution_count": 12,
   "metadata": {},
   "outputs": [],
   "source": [
    "# Define color palettes\n",
    "palette = brewer['YlOrRd'][len(bins)-1]\n",
    "palette1 = brewer['YlOrRd'][len(bins1)-1]\n",
    "\n",
    "# Reverse color palettes\n",
    "palette = palette[::-1]\n",
    "palette1 = palette1[::-1]\n",
    "\n",
    "# From cbouy\n",
    "def val_to_color(value, nan_color='#d9d9d9'):\n",
    "    if isinstance(value, str): return nan_color\n",
    "    for i in range(1,len(bins)):\n",
    "        if value <= bins[i]:\n",
    "            return palette[i-1]\n",
    "        \n",
    "def val_to_color1(value, nan_color='#d9d9d9'):\n",
    "    if isinstance(value, str): return nan_color\n",
    "    for i in range(1,len(bins1)):\n",
    "        if value <= bins1[i]:\n",
    "            return palette1[i-1]\n",
    "\n",
    "# Assign number of calls to a color\n",
    "nhood_a['color'] = nhood_a['Calls'].apply(val_to_color1)\n",
    "nhood_p['color'] = nhood_p['Calls'].apply(val_to_color1)\n",
    "nhood_m['color'] = nhood_m['Calls'].apply(val_to_color1)\n",
    "\n",
    "district_a['color'] = district_a['Calls'].apply(val_to_color)\n",
    "district_m['color'] = district_m['Calls'].apply(val_to_color)\n",
    "district_p2['color'] = district_p2['Calls'].apply(val_to_color1)\n",
    "district_p3['color'] = district_p3['Calls'].apply(val_to_color)"
   ]
  },
  {
   "cell_type": "markdown",
   "metadata": {},
   "source": [
    "We define y-coordinates for the colorbar, such that we can display it as a nice vertical bar. Furthermore, the width of the color bar is set to 4.7."
   ]
  },
  {
   "cell_type": "code",
   "execution_count": 13,
   "metadata": {},
   "outputs": [],
   "source": [
    "# From cbouy\n",
    "def bin_to_cbar_y(value):\n",
    "    for i,b in enumerate(bin_labels):\n",
    "        if value == b:\n",
    "            return 5*(i+1)\n",
    "        \n",
    "def bin_to_cbar_y1(value):\n",
    "    for i,b in enumerate(bin_labels1):\n",
    "        if value == b:\n",
    "            return 5*(i+1)\n",
    "        \n",
    "# Assign y coordinates  \n",
    "nhood_a['cbar_y'] = nhood_a['bin'].apply(bin_to_cbar_y1)\n",
    "nhood_p['cbar_y'] = nhood_p['bin'].apply(bin_to_cbar_y1)\n",
    "nhood_m['cbar_y'] = nhood_m['bin'].apply(bin_to_cbar_y1)\n",
    "\n",
    "district_a['cbar_y'] = district_a['bin'].apply(bin_to_cbar_y)\n",
    "district_m['cbar_y'] = district_m['bin'].apply(bin_to_cbar_y1)\n",
    "district_p2['cbar_y'] = district_p2['bin'].apply(bin_to_cbar_y1)\n",
    "district_p3['cbar_y'] = district_p3['bin'].apply(bin_to_cbar_y)\n",
    "\n",
    "# Assign width\n",
    "nhood_a['cbar_w'] = 4.7\n",
    "nhood_p['cbar_w'] = 4.7\n",
    "nhood_m['cbar_w'] = 4.7\n",
    "\n",
    "district_a['cbar_w'] = 4.7\n",
    "district_m['cbar_w'] = 4.7\n",
    "district_p2['cbar_w'] = 4.7\n",
    "district_p3['cbar_w'] = 4.7"
   ]
  },
  {
   "cell_type": "markdown",
   "metadata": {},
   "source": [
    "Next, we define the interactive tools. We want a slider that enables us to slide through the years, as well as a drop-down menu that enables us to choose different criteria."
   ]
  },
  {
   "cell_type": "code",
   "execution_count": 14,
   "metadata": {},
   "outputs": [],
   "source": [
    "# Sliders\n",
    "slider = Slider(start=2000, end=2019, value=2010, step=1, title=\"Year\")\n",
    "slider1 = Slider(start=2000, end=2019, value=2010, step=1, title=\"Year\")\n",
    "\n",
    "# Drop-down menus\n",
    "select = Select(title='Select criteria', value='All calls', options=['All calls', 'High priority calls',\n",
    "                                                                    'Low priority calls', 'Medical incident calls'])\n",
    "select1 = Select(title='Select criteria', value='All calls', options=['All calls', 'High priority calls',\n",
    "                                                                    'Low priority calls', 'Medical incident calls'])"
   ]
  },
  {
   "cell_type": "markdown",
   "metadata": {},
   "source": [
    "The following two functions will be used to generate the source data for the maps, whenever the data needs to be updated."
   ]
  },
  {
   "cell_type": "code",
   "execution_count": 15,
   "metadata": {},
   "outputs": [],
   "source": [
    "# Function that returns neighborhood json_data for the selected year\n",
    "def json_data(selectedYear):\n",
    "    yr = selectedYear\n",
    "    cr = select.value\n",
    "    \n",
    "    # Pull correct data\n",
    "    if cr == \"High priority calls\":\n",
    "        df = nhood_p[(nhood_p['year'] == yr) & (nhood_p['Priority'] == 3)]\n",
    "    elif cr == \"Low priority calls\":\n",
    "        df = nhood_p[(nhood_p['year'] == yr) & (nhood_p['Priority'] == 2)]\n",
    "    elif cr == \"Medical incident calls\":\n",
    "        df = nhood_m[nhood_m['year'] == yr]\n",
    "    elif cr == \"All calls\":\n",
    "        df = nhood_a[nhood_a['year'] == yr]\n",
    "\n",
    "    # Convert to json\n",
    "    df_json = json.loads(df.to_json())\n",
    "\n",
    "    # Convert to json preferred string-like object \n",
    "    json_data = json.dumps(df_json)\n",
    "    return json_data"
   ]
  },
  {
   "cell_type": "code",
   "execution_count": 16,
   "metadata": {},
   "outputs": [],
   "source": [
    "# Function that returns district json_data for the selected year \n",
    "def json_data1(selectedYear):\n",
    "    yr = selectedYear\n",
    "    cr = select1.value\n",
    "    \n",
    "    # Pull correct data\n",
    "    if cr == \"High priority calls\":\n",
    "        df = district_p3[district_p3['year'] == yr]\n",
    "    elif cr == \"Low priority calls\":\n",
    "        df = district_p2[district_p2['year'] == yr]\n",
    "    elif cr == \"Medical incident calls\":\n",
    "        df = district_m[district_m['year'] == yr]\n",
    "    elif cr == \"All calls\":\n",
    "        df = district_a[district_a['year'] == yr]\n",
    "\n",
    "    # Convert to json\n",
    "    df_json = json.loads(df.to_json())\n",
    "\n",
    "    # Convert to json preferred string-like object \n",
    "    json_data1 = json.dumps(df_json)\n",
    "    return json_data1"
   ]
  },
  {
   "cell_type": "markdown",
   "metadata": {},
   "source": [
    "Now we can define the \"source data\" for the two maps. This data will be updated whenever the value of the slider or drop-down menu changes."
   ]
  },
  {
   "cell_type": "code",
   "execution_count": 17,
   "metadata": {},
   "outputs": [],
   "source": [
    "# Source that will contain all necessary data for the map\n",
    "nhood_src = GeoJSONDataSource(geojson=json_data(2010))\n",
    "district_src = GeoJSONDataSource(geojson=json_data1(2010))"
   ]
  },
  {
   "cell_type": "markdown",
   "metadata": {},
   "source": [
    "Next we make the functions that generate the actual maps. We make a hover tool that displays the name of the neighborhood/district as well as the number of calls, whenever we hover over a certain neighborhood/district. We also ensure that a neighborhood/district is highlighted with an outline when we hover over it."
   ]
  },
  {
   "cell_type": "code",
   "execution_count": 30,
   "metadata": {},
   "outputs": [],
   "source": [
    "# Create map with neighborhoods\n",
    "def make_nmap():\n",
    "    cr = select.value\n",
    "    \n",
    "    p = figure(\n",
    "        title = cr + ' to fire department by neighborhood in San Francisco in 2010',\n",
    "        plot_height=700 , plot_width=650,\n",
    "        toolbar_location=None, tools=\"tap,pan,wheel_zoom,box_zoom,save,reset\", toolbar_sticky=False,\n",
    "        active_scroll=\"wheel_zoom\",\n",
    "    )\n",
    "    p.title.text_font_size = '12pt'\n",
    "    p.xgrid.grid_line_color = None\n",
    "    p.ygrid.grid_line_color = None\n",
    "    p.axis.visible = False\n",
    "    \n",
    "    map_hover = HoverTool(tooltips=[\n",
    "    ('Neighborhood','@Neighborhood'),\n",
    "    ('Number of calls', '@Calls')\n",
    "    ])\n",
    "\n",
    "    # Add hover tool\n",
    "    p.add_tools(map_hover)\n",
    "\n",
    "    # Add patches (neighborhoods) to the figure - from cbouy\n",
    "    patches = p.patches(\n",
    "        'xs','ys', source=nhood_src,\n",
    "        fill_color='color',\n",
    "        line_color='black', line_width=0.25, fill_alpha=1,\n",
    "        hover_fill_color='color',\n",
    "    )\n",
    "    # Outline when we hover over a neighborhood - from cbouy\n",
    "    patches.hover_glyph.line_color = '#3bdd9d'\n",
    "    patches.hover_glyph.line_width = 3\n",
    "    patches.nonselection_glyph = None\n",
    "    \n",
    "    return p"
   ]
  },
  {
   "cell_type": "code",
   "execution_count": 31,
   "metadata": {},
   "outputs": [],
   "source": [
    "# Create map with districts \n",
    "def make_dmap():\n",
    "    cr = select1.value\n",
    "    \n",
    "    f = figure(\n",
    "        title = cr + ' to fire department by district in San Francisco in 2010',\n",
    "        plot_height=700 , plot_width=650,\n",
    "        toolbar_location=None, tools=\"tap,pan,wheel_zoom,box_zoom,save,reset\", toolbar_sticky=False,\n",
    "        active_scroll=\"wheel_zoom\",\n",
    "    )\n",
    "    f.title.text_font_size = '12pt'\n",
    "    f.xgrid.grid_line_color = None\n",
    "    f.ygrid.grid_line_color = None\n",
    "    f.axis.visible = False\n",
    "    \n",
    "    map_hover = HoverTool(tooltips=[\n",
    "    ('District','@District'),\n",
    "    ('Number of calls', '@Calls')\n",
    "    ])\n",
    "\n",
    "    # Add hover tool\n",
    "    f.add_tools(map_hover)\n",
    "\n",
    "    # Add patches (districts) to the figure - from cbouy\n",
    "    patches = f.patches(\n",
    "        'xs','ys', source=district_src,\n",
    "        fill_color='color',\n",
    "        line_color='black', line_width=0.25, fill_alpha=1,\n",
    "        hover_fill_color='color',\n",
    "    )\n",
    "    # outline when we hover over a district - from cbouy\n",
    "    patches.hover_glyph.line_color = '#3bdd9d'\n",
    "    patches.hover_glyph.line_width = 3\n",
    "    patches.nonselection_glyph = None\n",
    "    \n",
    "    return f"
   ]
  },
  {
   "cell_type": "markdown",
   "metadata": {},
   "source": [
    "Now we need to make the colorbars for the two maps. The rectangles are made with the cbar_y, cbar_w and color columns in the dataframes. We make sure that all patches of a given color are highligted whenever we hover over that specific color on the colorbar."
   ]
  },
  {
   "cell_type": "code",
   "execution_count": 32,
   "metadata": {},
   "outputs": [],
   "source": [
    "# Create interactive colorbar for the neighborhood map\n",
    "def make_nbar():\n",
    "    p_bar = figure(\n",
    "        title=None, plot_height=400 , plot_width=130,\n",
    "        tools=\"tap\", toolbar_location=None, match_aspect=True,\n",
    "    )\n",
    "    p_bar.xgrid.grid_line_color = None\n",
    "    p_bar.ygrid.grid_line_color = None\n",
    "    p_bar.outline_line_color = None\n",
    "    p_bar.xaxis.visible = False \n",
    "    \n",
    "    cr = select.value\n",
    "    if cr == \"All calls\":\n",
    "        df = nhood_a\n",
    "    elif cr == \"High priority calls\" or cr == \"Low priority calls\":\n",
    "        df = nhood_p\n",
    "    elif cr == \"Medical incident calls\":\n",
    "        df = nhood_m\n",
    "\n",
    "    # Set the title and ticks of the colorbar\n",
    "    p_bar.yaxis.axis_label = \"Number of calls\"\n",
    "    p_bar.yaxis.ticker = sorted(df['cbar_y'].unique())\n",
    "    p_bar.yaxis.major_label_overrides = dict([(i[0],i[1]) for i in df.groupby(['cbar_y','bin']).describe().index])\n",
    "    p_bar.yaxis.axis_label_text_font_size = \"10pt\"\n",
    "    p_bar.yaxis.major_label_text_font_size = \"8pt\"\n",
    "\n",
    "    # Activate hover\n",
    "    hover_bar = HoverTool(tooltips=None)\n",
    "    p_bar.add_tools(hover_bar)\n",
    "\n",
    "    # Plot the rectangles for the colorbar\n",
    "    cbar = p_bar.rect(x=0, y='cbar_y', width=1.7, height='cbar_w',\n",
    "        color='color', source=nhood_src,\n",
    "        hover_line_color='#3bdd9d', hover_fill_color='color')\n",
    "\n",
    "    # Outline when hovering over the colorbar legend\n",
    "    cbar.hover_glyph.line_width = 4\n",
    "    cbar.nonselection_glyph = None\n",
    "    \n",
    "    return p_bar"
   ]
  },
  {
   "cell_type": "code",
   "execution_count": 33,
   "metadata": {},
   "outputs": [],
   "source": [
    "# Create interactive colorbar for the district map\n",
    "def make_dbar():\n",
    "    f_bar = figure(\n",
    "        title=None, plot_height=400 , plot_width=130,\n",
    "        tools=\"tap\", toolbar_location=None, match_aspect=True,\n",
    "    )\n",
    "    f_bar.xgrid.grid_line_color = None\n",
    "    f_bar.ygrid.grid_line_color = None\n",
    "    f_bar.outline_line_color = None\n",
    "    f_bar.xaxis.visible = False \n",
    "    \n",
    "    cr = select1.value\n",
    "    if cr == \"All calls\":\n",
    "        df = district_a\n",
    "    elif cr == \"High priority calls\":\n",
    "        df = district_p3\n",
    "    elif cr == \"Low priority calls\":\n",
    "        df = district_p2\n",
    "    elif cr == \"Medical incident calls\":\n",
    "        df = district_m\n",
    "\n",
    "    # Set the title and ticks of the colorbar\n",
    "    f_bar.yaxis.axis_label = \"Number of calls\"\n",
    "    f_bar.yaxis.ticker = sorted(df['cbar_y'].unique())\n",
    "    f_bar.yaxis.major_label_overrides = dict([(i[0],i[1]) for i in df.groupby(['cbar_y','bin']).describe().index])\n",
    "    f_bar.yaxis.axis_label_text_font_size = \"10pt\"\n",
    "    f_bar.yaxis.major_label_text_font_size = \"8pt\"\n",
    "\n",
    "    # Activate hover\n",
    "    hover_bar = HoverTool(tooltips=None)\n",
    "    f_bar.add_tools(hover_bar)\n",
    "\n",
    "    # Plot the rectangles for the colorbar\n",
    "    cbar = f_bar.rect(x=0, y='cbar_y', width=1.7, height='cbar_w',\n",
    "        color='color', source=district_src,\n",
    "        hover_line_color='#3bdd9d', hover_fill_color='color')\n",
    "\n",
    "    # Outline when hovering over the colorbar legend\n",
    "    cbar.hover_glyph.line_width = 4\n",
    "    cbar.nonselection_glyph = None\n",
    "    \n",
    "    return f_bar"
   ]
  },
  {
   "cell_type": "markdown",
   "metadata": {},
   "source": [
    "In the following we define the callback functions that define the behaviour when using the sliders and drop-down menus. When a slider is moved, we simply want the source data to update. However, when a new criteria is selected from the drop-down, we make the entire map and colorbar again, with the new source data. "
   ]
  },
  {
   "cell_type": "code",
   "execution_count": 34,
   "metadata": {},
   "outputs": [],
   "source": [
    "def callback_sli(attr, old, new):\n",
    "    yr = slider.value\n",
    "    cr = select.value\n",
    "\n",
    "    new_data = json_data(yr)\n",
    "    \n",
    "    # Update the data\n",
    "    p.title.text = cr + \" to fire department by neighborhood in San Francisco in \" + str(yr)\n",
    "    nhood_src.geojson = new_data"
   ]
  },
  {
   "cell_type": "code",
   "execution_count": 35,
   "metadata": {},
   "outputs": [],
   "source": [
    "def callback_sli1(attr, old, new):\n",
    "    yr = slider1.value\n",
    "    cr = select1.value\n",
    "\n",
    "    new_data = json_data1(yr)\n",
    "    \n",
    "    # Update the data\n",
    "    f.title.text = cr + \" to fire department by district in San Francisco in \" + str(yr)\n",
    "    district_src.geojson = new_data"
   ]
  },
  {
   "cell_type": "code",
   "execution_count": 36,
   "metadata": {},
   "outputs": [],
   "source": [
    "# Function to update the neighborhood map when selected criteria is changed\n",
    "def callback_sel(attr, old, new):\n",
    "    yr = slider.value\n",
    "    cr = select.value\n",
    "    \n",
    "    # Update the data\n",
    "    new_data = json_data(yr)\n",
    "    nhood_src.geojson = new_data\n",
    "\n",
    "    # Make map and colorbar again\n",
    "    p = make_nmap()\n",
    "    p_bar = make_nbar()\n",
    "    \n",
    "    p.title.text = cr + \" to fire department by neighborhood in San Francisco\"\n",
    "\n",
    "    tab_n = Panel(title=\"Neighborhoods\",\n",
    "    child=row(\n",
    "        p_bar, \n",
    "        column(p, \n",
    "            row(widgetbox(slider),\n",
    "            widgetbox(select)))\n",
    "    ))\n",
    "\n",
    "    tabs = Tabs(tabs=[ tab_n, tab_d ])\n",
    "    \n",
    "    footer = Div(text=\"\"\"\n",
    "    Data: <a href=\"https://data.sfgov.org/Public-Safety/Fire-Department-Calls-for-Service/nuek-vuh3\"> \n",
    "    Fire Department Calls for Service</a>\"\"\")\n",
    "    \n",
    "    # Clear curdoc and add new layout to curdoc\n",
    "    layout = column(tabs, footer)\n",
    "    curdoc().clear()\n",
    "    curdoc().add_root(layout)"
   ]
  },
  {
   "cell_type": "code",
   "execution_count": 37,
   "metadata": {},
   "outputs": [],
   "source": [
    "# Function to update the district map when selected criteria is changed\n",
    "def callback_sel1(attr, old, new):\n",
    "    yr = slider1.value\n",
    "    cr = select1.value\n",
    "    \n",
    "    # Update the data\n",
    "    new_data = json_data1(yr)\n",
    "    district_src.geojson = new_data\n",
    "    \n",
    "    # Make map and colorbar again\n",
    "    f = make_dmap()\n",
    "    f_bar = make_dbar()\n",
    "    \n",
    "    f.title.text = cr + \" to fire department by district in San Francisco\"\n",
    "\n",
    "    tab_d = Panel(title=\"Districts\",\n",
    "    child=row(\n",
    "        f_bar, \n",
    "        column(f, \n",
    "            row(widgetbox(slider1),\n",
    "            widgetbox(select1)))\n",
    "    ))\n",
    "\n",
    "    tabs = Tabs(tabs=[ tab_n, tab_d ])\n",
    "    tabs.active=1\n",
    "    \n",
    "    footer = Div(text=\"\"\"\n",
    "    Data: <a href=\"https://data.sfgov.org/Public-Safety/Fire-Department-Calls-for-Service/nuek-vuh3\"> \n",
    "    Fire Department Calls for Service</a>\"\"\")\n",
    "    \n",
    "    # Clear curdoc and add new layout to curdoc\n",
    "    layout = column(tabs, footer)\n",
    "    curdoc().clear()\n",
    "    curdoc().add_root(layout)"
   ]
  },
  {
   "cell_type": "markdown",
   "metadata": {},
   "source": [
    "Finally, we draw the maps and colorbars, and build the desired layout. The layout is then added to the current document, and can be displayed on a bokeh server."
   ]
  },
  {
   "cell_type": "code",
   "execution_count": 40,
   "metadata": {},
   "outputs": [
    {
     "name": "stderr",
     "output_type": "stream",
     "text": [
      "BokehDeprecationWarning: 'WidgetBox' is deprecated and will be removed in Bokeh 3.0, use 'bokeh.models.Column' instead\n",
      "BokehDeprecationWarning: 'WidgetBox' is deprecated and will be removed in Bokeh 3.0, use 'bokeh.models.Column' instead\n",
      "BokehDeprecationWarning: 'WidgetBox' is deprecated and will be removed in Bokeh 3.0, use 'bokeh.models.Column' instead\n",
      "BokehDeprecationWarning: 'WidgetBox' is deprecated and will be removed in Bokeh 3.0, use 'bokeh.models.Column' instead\n"
     ]
    }
   ],
   "source": [
    "# Use callback functions when sliders are used \n",
    "slider.on_change('value', callback_sli)\n",
    "slider1.on_change('value', callback_sli1)\n",
    "\n",
    "# Use callback functions when drop-downs are used \n",
    "select.on_change('value', callback_sel)\n",
    "select1.on_change('value', callback_sel1)\n",
    "\n",
    "# Make neighborhood map and colorbar\n",
    "p = make_nmap()\n",
    "p_bar = make_nbar()\n",
    "\n",
    "# Make tab containing neighborhood map + tools\n",
    "tab_n = Panel(title=\"Neighborhoods\",\n",
    "    child=row(\n",
    "        p_bar, \n",
    "        column(p,\n",
    "            row(widgetbox(slider),\n",
    "            widgetbox(select)))\n",
    "    ))\n",
    "\n",
    "# Make district map and colorbar\n",
    "f = make_dmap()\n",
    "f_bar = make_dbar()\n",
    "\n",
    "# Make tab containing district map + tools\n",
    "tab_d = Panel(title=\"Districts\",\n",
    "    child=row(\n",
    "        f_bar, \n",
    "        column(f, \n",
    "            row(widgetbox(slider1),\n",
    "            widgetbox(select1)))\n",
    "    ))\n",
    "\n",
    "# Define tabs \n",
    "tabs = Tabs(tabs=[ tab_n, tab_d])\n"
   ]
  },
  {
   "cell_type": "code",
   "execution_count": 41,
   "metadata": {},
   "outputs": [],
   "source": [
    "# Add layout to current document\n",
    "footer = Div(text=\"\"\"\n",
    "Data: <a href=\"https://data.sfgov.org/Public-Safety/Fire-Department-Calls-for-Service/nuek-vuh3\"> Fire Department Calls for Service</a>\n",
    "\"\"\")\n",
    "layout = column(tabs, footer)\n",
    "curdoc().add_root(layout)"
   ]
  }
 ],
 "metadata": {
  "kernelspec": {
   "display_name": "Python 3",
   "language": "python",
   "name": "python3"
  },
  "language_info": {
   "codemirror_mode": {
    "name": "ipython",
    "version": 3
   },
   "file_extension": ".py",
   "mimetype": "text/x-python",
   "name": "python",
   "nbconvert_exporter": "python",
   "pygments_lexer": "ipython3",
   "version": "3.7.4"
  }
 },
 "nbformat": 4,
 "nbformat_minor": 4
}
